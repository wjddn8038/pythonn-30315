{
 "cells": [
  {
   "cell_type": "markdown",
   "metadata": {},
   "source": [
    "## 30315_이정우"
   ]
  },
  {
   "cell_type": "markdown",
   "metadata": {},
   "source": [
    "### 가위바위보 게임"
   ]
  },
  {
   "cell_type": "code",
   "execution_count": 1,
   "metadata": {},
   "outputs": [],
   "source": [
    "import random as r"
   ]
  },
  {
   "cell_type": "code",
   "execution_count": 13,
   "metadata": {},
   "outputs": [
    {
     "name": "stdout",
     "output_type": "stream",
     "text": [
      "가위, 바위 , 보 중에서 하나를 선택하세요.바위\n",
      "바위 VS 가위 로 이겼습니다.\n"
     ]
    }
   ],
   "source": [
    "user = input(\"가위, 바위 , 보 중에서 하나를 선택하세요.\")\n",
    "com = r.randint(1,3)\n",
    "if(user == \"가위\"):\n",
    "    if(com == 1):\n",
    "        print(\"가위 VS 가위 로 비겼습니다.\")\n",
    "    elif(com == 2):\n",
    "        print(\"가위 VS 바위 로 졌습니다.\")\n",
    "    else:\n",
    "        print(\"가위 VS 보 로 이겼습니다.\")\n",
    "elif(user ==\"바위\"):\n",
    "    if(com==1):\n",
    "        print(\"바위 VS 가위 로 이겼습니다.\")\n",
    "    elif(com==2):\n",
    "        print(\"바위 VS 바위 로 비겼습니다.\")\n",
    "    else:\n",
    "        print(\"바위 VS 보로 졌습니다.\")\n",
    "elif(user == \"보\"):\n",
    "    if(com==1):\n",
    "        print(\"보 VS 가위 로 졌습니다.\")\n",
    "    elif(com==2):\n",
    "        print(\"보 VS 바위 로 이겼습니다.\")\n",
    "    else:\n",
    "        print(\"보 VS 보 로 비겼습니다.\")"
   ]
  },
  {
   "cell_type": "code",
   "execution_count": null,
   "metadata": {},
   "outputs": [],
   "source": []
  },
  {
   "cell_type": "code",
   "execution_count": null,
   "metadata": {},
   "outputs": [],
   "source": []
  }
 ],
 "metadata": {
  "kernelspec": {
   "display_name": "Python 3",
   "language": "python",
   "name": "python3"
  },
  "language_info": {
   "codemirror_mode": {
    "name": "ipython",
    "version": 3
   },
   "file_extension": ".py",
   "mimetype": "text/x-python",
   "name": "python",
   "nbconvert_exporter": "python",
   "pygments_lexer": "ipython3",
   "version": "3.7.4"
  }
 },
 "nbformat": 4,
 "nbformat_minor": 2
}
