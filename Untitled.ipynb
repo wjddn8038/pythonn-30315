{
 "cells": [
  {
   "cell_type": "markdown",
   "metadata": {},
   "source": [
    "### format_for_list"
   ]
  },
  {
   "cell_type": "code",
   "execution_count": 1,
   "metadata": {
    "scrolled": true
   },
   "outputs": [
    {
     "name": "stdout",
     "output_type": "stream",
     "text": [
      "대건 윤기 찬빈\n"
     ]
    }
   ],
   "source": [
    "s = '{} {} {}'\n",
    "f = s.format('대건','윤기','찬빈')\n",
    "print(f)"
   ]
  },
  {
   "cell_type": "code",
   "execution_count": 18,
   "metadata": {
    "scrolled": true
   },
   "outputs": [
    {
     "name": "stdout",
     "output_type": "stream",
     "text": [
      "대건이는 윤기와 찬빈를 좋아한다\n"
     ]
    }
   ],
   "source": [
    "s = '{}이는 {}와 {}를 좋아한다'\n",
    "f = s.format('대건','윤기','찬빈')\n",
    "print(f)"
   ]
  },
  {
   "cell_type": "code",
   "execution_count": 19,
   "metadata": {
    "scrolled": true
   },
   "outputs": [
    {
     "name": "stdout",
     "output_type": "stream",
     "text": [
      "대건이는 30312번이고 인천대학교에 진학했다\n"
     ]
    }
   ],
   "source": [
    "s = '{}이는 {}번이고 {}에 진학했다'\n",
    "f = s.format('대건',30312,'인천대학교')\n",
    "print(f)"
   ]
  },
  {
   "cell_type": "code",
   "execution_count": 19,
   "metadata": {
    "scrolled": true
   },
   "outputs": [
    {
     "name": "stdout",
     "output_type": "stream",
     "text": [
      "대건이는 30312번이고 인천대학교에 진학했다\n"
     ]
    }
   ],
   "source": [
    "name ='석찬'\n",
    "num = 30303\n",
    "add = '인천시 연수구'\n",
    "s = '{}이는 {}번이고 {}에 살고있다'\n",
    "f = s.format(name,num,'add')\n",
    "print(f)"
   ]
  },
  {
   "cell_type": "code",
   "execution_count": 23,
   "metadata": {
    "scrolled": true
   },
   "outputs": [
    {
     "name": "stdout",
     "output_type": "stream",
     "text": [
      "이름 입력 이정우\n",
      "학번 입력 30315\n",
      "주소 입력 인천시 서구 연희동\n",
      "이정우이는 30315번이고 인천시 서구 연희동에 살고있다\n"
     ]
    }
   ],
   "source": [
    "name = input('이름 입력 ')\n",
    "num = input('학번 입력 ')\n",
    "add = input('주소 입력 ')\n",
    "s = '{}이는 {}번이고 {}에 살고있다'\n",
    "f = s.format(name,num,add)\n",
    "print(f)"
   ]
  },
  {
   "cell_type": "code",
   "execution_count": 24,
   "metadata": {
    "scrolled": true
   },
   "outputs": [
    {
     "name": "stdout",
     "output_type": "stream",
     "text": [
      "이름 학번 주소 : 이정우 30315 인천시서구연희동\n"
     ]
    }
   ],
   "source": [
    "stu = input('이름 학번 주소 : ').split()\n"
   ]
  },
  {
   "cell_type": "code",
   "execution_count": 25,
   "metadata": {},
   "outputs": [
    {
     "data": {
      "text/plain": [
       "['이정우', '30315', '인천시서구연희동']"
      ]
     },
     "execution_count": 25,
     "metadata": {},
     "output_type": "execute_result"
    }
   ],
   "source": [
    "stu"
   ]
  },
  {
   "cell_type": "code",
   "execution_count": 27,
   "metadata": {},
   "outputs": [
    {
     "data": {
      "text/plain": [
       "('이정우', '30315')"
      ]
     },
     "execution_count": 27,
     "metadata": {},
     "output_type": "execute_result"
    }
   ],
   "source": [
    "stu[0],stu[1]"
   ]
  },
  {
   "cell_type": "code",
   "execution_count": 30,
   "metadata": {},
   "outputs": [
    {
     "name": "stdout",
     "output_type": "stream",
     "text": [
      "이정우는 30315번이고 인천시서구연희동에 살고있다\n"
     ]
    }
   ],
   "source": [
    "\n",
    "s = '{}는 {}번이고 {}에 살고있다'\n",
    "f = s.format(stu[0],stu[1],stu[2])\n",
    "print(f)"
   ]
  },
  {
   "cell_type": "markdown",
   "metadata": {},
   "source": [
    "## [문제1] 다음과 같은 양식으로 입력받아 출력하기\n",
    "- 햄버거/2/4 입력하면\n",
    "- 햄버거 2개 값은 8 달러입니다"
   ]
  },
  {
   "cell_type": "code",
   "execution_count": 185,
   "metadata": {},
   "outputs": [
    {
     "name": "stdout",
     "output_type": "stream",
     "text": [
      "음식이름 갯수 가격햄버거 2 4\n"
     ]
    }
   ],
   "source": [
    "food =input('음식이름 갯수 가격').split()"
   ]
  },
  {
   "cell_type": "code",
   "execution_count": 194,
   "metadata": {},
   "outputs": [
    {
     "name": "stdout",
     "output_type": "stream",
     "text": [
      "햄버거 2개 값은 8달라 입니다.\n"
     ]
    }
   ],
   "source": [
    "s = '{} {}개 값은 {}달라 입니다.'\n",
    "food[1]=int(food[1])\n",
    "food[2]=int(food[2])\n",
    "f = s.format(food[0],food[1],food[2]*food[1])\n",
    "print(f)"
   ]
  },
  {
   "cell_type": "code",
   "execution_count": null,
   "metadata": {},
   "outputs": [],
   "source": []
  },
  {
   "cell_type": "code",
   "execution_count": 188,
   "metadata": {
    "scrolled": false
   },
   "outputs": [
    {
     "name": "stdout",
     "output_type": "stream",
     "text": [
      "20 인천 0.050000\n"
     ]
    }
   ],
   "source": [
    "info = '%d %s %f'\n",
    "pr = info%(20, '인천', 0.05)\n",
    "print(pr)"
   ]
  },
  {
   "cell_type": "code",
   "execution_count": 195,
   "metadata": {
    "scrolled": true
   },
   "outputs": [
    {
     "name": "stdout",
     "output_type": "stream",
     "text": [
      "20년도 인천여고 0.05퍼센트\n"
     ]
    }
   ],
   "source": [
    "info = '%d년도 %s여고 %0.2f퍼센트'\n",
    "pr = info%(20, '인천', 0.05)\n",
    "print(pr)"
   ]
  },
  {
   "cell_type": "markdown",
   "metadata": {},
   "source": [
    "## [문제2]햄버거 2개는 8달라이다.\n",
    "- 햄버거\n",
    "- 2\n",
    "- 2 * 4"
   ]
  },
  {
   "cell_type": "code",
   "execution_count": 199,
   "metadata": {
    "scrolled": false
   },
   "outputs": [
    {
     "name": "stdout",
     "output_type": "stream",
     "text": [
      "햄버거 2개는 8달러이다.\n"
     ]
    }
   ],
   "source": [
    "food = '%s %d개는 %d달러이다.'\n",
    "pr = food%('햄버거', 2, 2*4)\n",
    "print(pr)"
   ]
  },
  {
   "cell_type": "markdown",
   "metadata": {},
   "source": [
    "## list"
   ]
  },
  {
   "cell_type": "code",
   "execution_count": 201,
   "metadata": {},
   "outputs": [
    {
     "data": {
      "text/plain": [
       "[1, 2, 3, 4, 5]"
      ]
     },
     "execution_count": 201,
     "metadata": {},
     "output_type": "execute_result"
    }
   ],
   "source": [
    "arr = [1,2,3,4,5]\n",
    "arr"
   ]
  },
  {
   "cell_type": "code",
   "execution_count": 208,
   "metadata": {},
   "outputs": [],
   "source": [
    "arr = ['성곤','대건','대범','호정']"
   ]
  },
  {
   "cell_type": "code",
   "execution_count": 204,
   "metadata": {},
   "outputs": [
    {
     "data": {
      "text/plain": [
       "'성곤'"
      ]
     },
     "execution_count": 204,
     "metadata": {},
     "output_type": "execute_result"
    }
   ],
   "source": [
    "arr[0]"
   ]
  },
  {
   "cell_type": "code",
   "execution_count": 209,
   "metadata": {},
   "outputs": [
    {
     "data": {
      "text/plain": [
       "4"
      ]
     },
     "execution_count": 209,
     "metadata": {},
     "output_type": "execute_result"
    }
   ],
   "source": [
    "len(arr)"
   ]
  },
  {
   "cell_type": "code",
   "execution_count": 211,
   "metadata": {
    "scrolled": true
   },
   "outputs": [
    {
     "name": "stdout",
     "output_type": "stream",
     "text": [
      "5\n",
      "4\n",
      "3\n",
      "2\n",
      "1\n"
     ]
    }
   ],
   "source": [
    "for i in range(5,0,-1):\n",
    "    print(i)"
   ]
  },
  {
   "cell_type": "code",
   "execution_count": 212,
   "metadata": {
    "scrolled": true
   },
   "outputs": [
    {
     "name": "stdout",
     "output_type": "stream",
     "text": [
      "성곤\n",
      "대건\n",
      "대범\n",
      "호정\n"
     ]
    }
   ],
   "source": [
    "for i in arr :\n",
    "    print(i)"
   ]
  },
  {
   "cell_type": "code",
   "execution_count": 214,
   "metadata": {
    "scrolled": true
   },
   "outputs": [
    {
     "name": "stdout",
     "output_type": "stream",
     "text": [
      "성곤\n",
      "대건\n",
      "대범\n",
      "호정\n"
     ]
    }
   ],
   "source": [
    "for i in range(len(arr)) :\n",
    "    print(arr[i])"
   ]
  },
  {
   "cell_type": "code",
   "execution_count": 221,
   "metadata": {
    "scrolled": true
   },
   "outputs": [
    {
     "name": "stdout",
     "output_type": "stream",
     "text": [
      "1 번 성곤\n",
      "2 번 대건\n",
      "3 번 대범\n",
      "4 번 호정\n"
     ]
    }
   ],
   "source": [
    "for i, val in enumerate(arr) :\n",
    "    print(i+1,'번',val)"
   ]
  },
  {
   "cell_type": "markdown",
   "metadata": {},
   "source": [
    "## [문제1]30부터 50까지 출력해보기"
   ]
  },
  {
   "cell_type": "code",
   "execution_count": 224,
   "metadata": {},
   "outputs": [
    {
     "name": "stdout",
     "output_type": "stream",
     "text": [
      "30 31 32 33 34 35 36 37 38 39 40 41 42 43 44 45 46 47 48 49 50 "
     ]
    }
   ],
   "source": [
    "for i in range(30,51):\n",
    "    print(i,end=\" \")"
   ]
  },
  {
   "cell_type": "markdown",
   "metadata": {},
   "source": [
    "## [문제2]30부터 50까지 중에서 홀수만 출력해보기"
   ]
  },
  {
   "cell_type": "code",
   "execution_count": 232,
   "metadata": {},
   "outputs": [
    {
     "name": "stdout",
     "output_type": "stream",
     "text": [
      "31 33 35 37 39 41 43 45 47 49 "
     ]
    }
   ],
   "source": [
    "for i in range(30,51):\n",
    "    if i%2!=0 :\n",
    "        print(i,end=\" \")"
   ]
  },
  {
   "cell_type": "markdown",
   "metadata": {},
   "source": [
    "## [문제3]30부터 50까지 중에서 홀수만 더해서 sum에 넣고 출력"
   ]
  },
  {
   "cell_type": "code",
   "execution_count": 240,
   "metadata": {},
   "outputs": [
    {
     "name": "stdout",
     "output_type": "stream",
     "text": [
      "400\n"
     ]
    }
   ],
   "source": [
    "sum = 0\n",
    "for i in range(30,51):\n",
    "    if i%2!=0 :\n",
    "        sum = sum+i\n",
    "print(sum)"
   ]
  },
  {
   "cell_type": "markdown",
   "metadata": {},
   "source": [
    "## [문제4]\n",
    "- 1부터 10까지 중에서\n",
    "- 짝수이면 파이썬\n",
    "- 홀수이면 야 너도 할수있어 출력"
   ]
  },
  {
   "cell_type": "code",
   "execution_count": 250,
   "metadata": {},
   "outputs": [
    {
     "name": "stdout",
     "output_type": "stream",
     "text": [
      "1  야 너도 할수있어\n",
      "2  파이썬\n",
      "3  야 너도 할수있어\n",
      "4  파이썬\n",
      "5  야 너도 할수있어\n",
      "6  파이썬\n",
      "7  야 너도 할수있어\n",
      "8  파이썬\n",
      "9  야 너도 할수있어\n"
     ]
    }
   ],
   "source": [
    "for i in range(1,10):\n",
    "    if i%2==0 :\n",
    "        print(i, \" 파이썬\")\n",
    "    else :\n",
    "        print(i,\" 야 너도 할수있어\")\n",
    "    "
   ]
  }
 ],
 "metadata": {
  "kernelspec": {
   "display_name": "Python 3",
   "language": "python",
   "name": "python3"
  },
  "language_info": {
   "codemirror_mode": {
    "name": "ipython",
    "version": 3
   },
   "file_extension": ".py",
   "mimetype": "text/x-python",
   "name": "python",
   "nbconvert_exporter": "python",
   "pygments_lexer": "ipython3",
   "version": "3.7.4"
  }
 },
 "nbformat": 4,
 "nbformat_minor": 2
}
