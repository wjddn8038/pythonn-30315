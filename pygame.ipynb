{
 "cells": [
  {
   "cell_type": "code",
   "execution_count": 2,
   "metadata": {},
   "outputs": [
    {
     "name": "stdout",
     "output_type": "stream",
     "text": [
      "Requirement already satisfied: pygame in c:\\users\\user\\anaconda3\\lib\\site-packages (1.9.6)\n",
      "Note: you may need to restart the kernel to use updated packages.\n"
     ]
    }
   ],
   "source": [
    "pip install pygame"
   ]
  },
  {
   "cell_type": "code",
   "execution_count": 6,
   "metadata": {},
   "outputs": [
    {
     "ename": "SystemExit",
     "evalue": "",
     "output_type": "error",
     "traceback": [
      "An exception has occurred, use %tb to see the full traceback.\n",
      "\u001b[1;31mSystemExit\u001b[0m\n"
     ]
    },
    {
     "name": "stderr",
     "output_type": "stream",
     "text": [
      "C:\\Users\\user\\Anaconda3\\lib\\site-packages\\IPython\\core\\interactiveshell.py:3334: UserWarning: To exit: use 'exit', 'quit', or Ctrl-D.\n",
      "  warn(\"To exit: use 'exit', 'quit', or Ctrl-D.\", stacklevel=1)\n"
     ]
    }
   ],
   "source": [
    "import sys\n",
    "import pygame\n",
    "from pygame.locals import QUIT\n",
    "\n",
    "pygame.init()\n",
    "\n",
    "SURFACE = pygame.display.set_mode((800,600))\n",
    "pygame.display.set_caption('Game Window')\n",
    "\n",
    "def main():\n",
    "    while True:\n",
    "        SURFACE.fill((255,255,255))\n",
    "        \n",
    "        for event in pygame.event.get():\n",
    "            \n",
    "            if event.type == QUIT:\n",
    "                pygame.quit()\n",
    "                sys.exit()\n",
    "                \n",
    "            pygame.display.update()\n",
    "            \n",
    "if __name__=='__main__':\n",
    "    main()"
   ]
  },
  {
   "cell_type": "code",
   "execution_count": 2,
   "metadata": {},
   "outputs": [
    {
     "ename": "SystemExit",
     "evalue": "",
     "output_type": "error",
     "traceback": [
      "An exception has occurred, use %tb to see the full traceback.\n",
      "\u001b[1;31mSystemExit\u001b[0m\n"
     ]
    }
   ],
   "source": [
    "import sys\n",
    "import pygame\n",
    "from pygame.locals import QUIT\n",
    "FPSCLOCK = pygame.time.Clock()\n",
    "\n",
    "pygame.init()\n",
    "\n",
    "SURFACE = pygame.display.set_mode((800,600))\n",
    "pygame.display.set_caption('Game Window')\n",
    "\n",
    "def main():\n",
    "    sysfont = pygame.font.SysFont(None,72)\n",
    "    message1 = sysfont.render('Hello Python',True,(0,128,128))\n",
    "    message1_rect = message1.get_rect()\n",
    "    message1_rect.center=(200,100)\n",
    "    \n",
    "    while True:\n",
    "        SURFACE.fill((255,255,255))\n",
    "        SURFACE.blit(message1,message1_rect)\n",
    "        \n",
    "        for event in pygame.event.get():\n",
    "            \n",
    "            if event.type == QUIT:\n",
    "                pygame.quit()\n",
    "                sys.exit()\n",
    "                \n",
    "            pygame.display.update()\n",
    "\n",
    "\n",
    "\n",
    "if __name__=='__main__':\n",
    "    main()\n",
    "\n",
    "\n"
   ]
  },
  {
   "cell_type": "code",
   "execution_count": 8,
   "metadata": {},
   "outputs": [
    {
     "ename": "SystemExit",
     "evalue": "",
     "output_type": "error",
     "traceback": [
      "An exception has occurred, use %tb to see the full traceback.\n",
      "\u001b[1;31mSystemExit\u001b[0m\n"
     ]
    }
   ],
   "source": [
    "import sys\n",
    "import pygame\n",
    "from pygame.locals import QUIT\n",
    "FPSCLOCK = pygame.time.Clock()\n",
    "\n",
    "pygame.init()\n",
    "\n",
    "SURFACE = pygame.display.set_mode((800,600))\n",
    "pygame.display.set_caption('Game Window')\n",
    "\n",
    "def main():\n",
    "    sysfont = pygame.font.SysFont(None,72)\n",
    "    message1 = sysfont.render('Hello Python',True,(0,128,128))\n",
    "    message1_rect = message1.get_rect()\n",
    "    message1_rect.center=(200,100)\n",
    "    \n",
    "    sysfont = pygame.font.SysFont(None,72)\n",
    "    message2 = sysfont.render('OK! Python',True,(0,128,128))\n",
    "    message2_rect = message2.get_rect()\n",
    "    message2_rect.center=(200,200)\n",
    "    \n",
    "    while True:\n",
    "        SURFACE.fill((255,255,255))\n",
    "        SURFACE.blit(message1,message1_rect)\n",
    "        SURFACE.blit(message2,message2_rect)\n",
    "        \n",
    "        for event in pygame.event.get():\n",
    "            \n",
    "            if event.type == QUIT:\n",
    "                pygame.quit()\n",
    "                sys.exit()\n",
    "                \n",
    "            pygame.display.update()\n",
    "\n",
    "\n",
    "\n",
    "if __name__=='__main__':\n",
    "    main()\n",
    "\n",
    "\n"
   ]
  },
  {
   "cell_type": "code",
   "execution_count": 11,
   "metadata": {},
   "outputs": [
    {
     "ename": "SystemExit",
     "evalue": "",
     "output_type": "error",
     "traceback": [
      "An exception has occurred, use %tb to see the full traceback.\n",
      "\u001b[1;31mSystemExit\u001b[0m\n"
     ]
    }
   ],
   "source": [
    "import sys\n",
    "import pygame\n",
    "from pygame.locals import QUIT\n",
    "FPSCLOCK = pygame.time.Clock()\n",
    "\n",
    "pygame.init()\n",
    "\n",
    "SURFACE = pygame.display.set_mode((800,600))\n",
    "pygame.display.set_caption('Game Window')\n",
    "\n",
    "def main():\n",
    "    sysfont = pygame.font.SysFont(None,36)\n",
    "    counter =0\n",
    "    count_image = sysfont.render('Counter     is   {}'.format(counter), True,(255,255,255))\n",
    "    \n",
    "    while True:\n",
    "        SURFACE.fill((255,255,255))\n",
    "        SURFACE.blit(count_image, (50,50))\n",
    "        \n",
    "        for event in pygame.event.get():\n",
    "            \n",
    "            if event.type == QUIT:\n",
    "                pygame.quit()\n",
    "                sys.exit()\n",
    "                \n",
    "            pygame.display.update()\n",
    "\n",
    "\n",
    "\n",
    "if __name__=='__main__':\n",
    "    main()\n",
    "\n"
   ]
  },
  {
   "cell_type": "code",
   "execution_count": 20,
   "metadata": {},
   "outputs": [
    {
     "ename": "SystemExit",
     "evalue": "",
     "output_type": "error",
     "traceback": [
      "An exception has occurred, use %tb to see the full traceback.\n",
      "\u001b[1;31mSystemExit\u001b[0m\n"
     ]
    }
   ],
   "source": []
  },
  {
   "cell_type": "code",
   "execution_count": 1,
   "metadata": {},
   "outputs": [
    {
     "name": "stdout",
     "output_type": "stream",
     "text": [
      "pygame 1.9.6\n",
      "Hello from the pygame community. https://www.pygame.org/contribute.html\n"
     ]
    },
    {
     "ename": "SystemExit",
     "evalue": "",
     "output_type": "error",
     "traceback": [
      "An exception has occurred, use %tb to see the full traceback.\n",
      "\u001b[1;31mSystemExit\u001b[0m\n"
     ]
    },
    {
     "name": "stderr",
     "output_type": "stream",
     "text": [
      "C:\\Users\\user\\Anaconda3\\lib\\site-packages\\IPython\\core\\interactiveshell.py:3334: UserWarning: To exit: use 'exit', 'quit', or Ctrl-D.\n",
      "  warn(\"To exit: use 'exit', 'quit', or Ctrl-D.\", stacklevel=1)\n"
     ]
    }
   ],
   "source": [
    "import sys\n",
    "import pygame\n",
    "from pygame.locals import QUIT, Rect\n",
    "\n",
    "r= Rect(30,20,60,40)\n",
    "r.center\n",
    "r.bottomleft\n",
    "r.width\n",
    "r.move(100,100)\n",
    "\n",
    "r.move_ip(100,100)\n",
    "    \n",
    "pygame.init()\n",
    "\n",
    "SURFACE = pygame.display.set_mode((800,600))\n",
    "pygame.display.set_caption('Game Window')\n",
    "\n",
    "\n",
    "def main():\n",
    " \n",
    "   \n",
    "    \n",
    "      \n",
    "    \n",
    "    while True:\n",
    "        SURFACE.fill((255,255,255))\n",
    "        pygame.draw.rect(SURFACE,(255,0,0),(100,100,200,200))\n",
    "        pygame.draw.rect(SURFACE,(0,255,0),(50,50,100,100),3)\n",
    "        pygame.draw.rect(SURFACE,(0,0,255),((100,80),(80,50)))\n",
    "    \n",
    "        rect0 = Rect(200,60,140,80)\n",
    "        pygame.draw.rect(SURFACE,(255,255,0),rect0)  \n",
    "        \n",
    "        for event in pygame.event.get():\n",
    "            \n",
    "            if event.type == QUIT:\n",
    "                pygame.quit()\n",
    "                sys.exit()\n",
    "                \n",
    "            pygame.display.update()\n",
    "    \n",
    "    \n",
    "            \n",
    "if __name__=='__main__':\n",
    "    main()\n",
    "\n"
   ]
  },
  {
   "cell_type": "code",
   "execution_count": 8,
   "metadata": {},
   "outputs": [
    {
     "ename": "SystemExit",
     "evalue": "",
     "output_type": "error",
     "traceback": [
      "An exception has occurred, use %tb to see the full traceback.\n",
      "\u001b[1;31mSystemExit\u001b[0m\n"
     ]
    }
   ],
   "source": [
    "import sys\n",
    "import pygame\n",
    "from pygame.locals import QUIT, Rect\n",
    "FPSCLOCK = pygame.time.Clock()\n",
    "pygame.init()\n",
    "\n",
    "SURFACE = pygame.display.set_mode((800,600))\n",
    "pygame.display.set_caption('Game Window')\n",
    "\n",
    "\n",
    "def main():\n",
    " \n",
    "    \n",
    "    while True:\n",
    "        \n",
    "            \n",
    "        for event in pygame.event.get():\n",
    "                SURFACE.fill((255,255,255))\n",
    "                for xpos in range(0,400,25):\n",
    "                    pygame.draw.line(SURFACE,(255,255,255),(xpos,0),(xpos,300))\n",
    "\n",
    "                for ypos in range(0,300,25):\n",
    "                    pygame.draw.line(SURFACE,(255,255,255),(0,ypos),(400,ypos))\n",
    "\n",
    "\n",
    "                pygame.display.update()\n",
    "                FPSCLOCK.tick(3) \n",
    "\n",
    "                if event.type == QUIT:\n",
    "                    pygame.quit()\n",
    "                    sys.exit()\n",
    "\n",
    " \n",
    "        \n",
    "        \n",
    "      \n",
    "            \n",
    "if __name__=='__main__':\n",
    "    main()\n"
   ]
  }
 ],
 "metadata": {
  "kernelspec": {
   "display_name": "Python 3",
   "language": "python",
   "name": "python3"
  },
  "language_info": {
   "codemirror_mode": {
    "name": "ipython",
    "version": 3
   },
   "file_extension": ".py",
   "mimetype": "text/x-python",
   "name": "python",
   "nbconvert_exporter": "python",
   "pygments_lexer": "ipython3",
   "version": "3.7.4"
  }
 },
 "nbformat": 4,
 "nbformat_minor": 2
}
